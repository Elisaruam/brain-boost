{
 "cells": [
  {
   "cell_type": "code",
   "execution_count": null,
   "metadata": {},
   "outputs": [],
   "source": [
    "!pip install --upgrade brain-boost\n"
   ]
  },
  {
   "cell_type": "code",
   "execution_count": null,
   "metadata": {},
   "outputs": [],
   "source": [
    "from brain_boost import general_knowledge, logic_exercise, memory_exercise, mental_math, analyze_overall_performance\n",
    "from brain_boost import ProgressTracker\n",
    "\n",
    "# Crear un tracker de progreso\n",
    "tracker = ProgressTracker()\n",
    "\n",
    "# Ejecutar algunos ejercicios con diferentes dificultades y resultados\n",
    "print(\"Ejercicio de conocimiento general (fácil):\")\n",
    "general_knowledge(difficulty=\"fácil\", tracker=tracker)\n",
    "\n",
    "print(\"\\nEjercicio de lógica (intermedio):\")\n",
    "logic_exercise(difficulty=\"intermedio\", tracker=tracker)\n",
    "\n",
    "print(\"\\nEjercicio de memoria (difícil):\")\n",
    "memory_exercise(difficulty=\"difícil\", tracker=tracker)\n",
    "\n",
    "print(\"\\nEjercicio de matemáticas mentales (fácil):\")\n",
    "mental_math(difficulty=\"fácil\", tracker=tracker)\n",
    "\n",
    "# Análisis de rendimiento\n",
    "print(\"\\nAnálisis de rendimiento:\")\n",
    "analyze_overall_performance()\n"
   ]
  }
 ],
 "metadata": {
  "kernelspec": {
   "display_name": "base",
   "language": "python",
   "name": "python3"
  },
  "language_info": {
   "codemirror_mode": {
    "name": "ipython",
    "version": 3
   },
   "file_extension": ".py",
   "mimetype": "text/x-python",
   "name": "python",
   "nbconvert_exporter": "python",
   "pygments_lexer": "ipython3",
   "version": "3.10.13"
  }
 },
 "nbformat": 4,
 "nbformat_minor": 2
}
