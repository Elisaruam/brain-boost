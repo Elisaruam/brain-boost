{
 "cells": [
  {
   "cell_type": "code",
   "execution_count": 1,
   "metadata": {},
   "outputs": [
    {
     "name": "stdout",
     "output_type": "stream",
     "text": [
      "Collecting brain-boost\n",
      "  Downloading brain_boost-0.1-py3-none-any.whl.metadata (430 bytes)\n",
      "Downloading brain_boost-0.1-py3-none-any.whl (3.0 kB)\n",
      "Installing collected packages: brain-boost\n",
      "Successfully installed brain-boost-0.1\n",
      "Note: you may need to restart the kernel to use updated packages.\n"
     ]
    },
    {
     "name": "stderr",
     "output_type": "stream",
     "text": [
      "WARNING: Ignoring invalid distribution -atplotlib (c:\\users\\34688\\anaconda3\\lib\\site-packages)\n",
      "WARNING: Ignoring invalid distribution -atplotlib (c:\\users\\34688\\anaconda3\\lib\\site-packages)\n"
     ]
    }
   ],
   "source": [
    "pip install brain-boost"
   ]
  },
  {
   "cell_type": "code",
   "execution_count": null,
   "metadata": {},
   "outputs": [],
   "source": [
    "import brain_boost  \n"
   ]
  },
  {
   "cell_type": "code",
   "execution_count": 2,
   "metadata": {},
   "outputs": [
    {
     "name": "stdout",
     "output_type": "stream",
     "text": [
      "Memoriza esta secuencia: ['casa', 'libro', 'gato']\n",
      "\n",
      "\n",
      "\n",
      "\n",
      "\n",
      "\n",
      "\n",
      "\n",
      "\n",
      "\n",
      "\n",
      "\n",
      "\n",
      "\n",
      "\n",
      "\n",
      "\n",
      "\n",
      "\n",
      "\n",
      "\n",
      "\n",
      "\n",
      "\n",
      "\n",
      "\n",
      "\n",
      "\n",
      "\n",
      "\n",
      "\n",
      "\n",
      "\n",
      "\n",
      "\n",
      "\n",
      "\n",
      "\n",
      "\n",
      "\n",
      "\n",
      "\n",
      "\n",
      "\n",
      "\n",
      "\n",
      "\n",
      "\n",
      "\n",
      "\n",
      "\n",
      "\n",
      "\n",
      "\n",
      "\n",
      "\n",
      "\n",
      "\n",
      "\n",
      "\n",
      "\n",
      "\n",
      "\n",
      "\n",
      "\n",
      "\n",
      "\n",
      "\n",
      "\n",
      "\n",
      "\n",
      "\n",
      "\n",
      "\n",
      "\n",
      "\n",
      "\n",
      "\n",
      "\n",
      "\n",
      "\n",
      "\n",
      "\n",
      "\n",
      "\n",
      "\n",
      "\n",
      "\n",
      "\n",
      "\n",
      "\n",
      "\n",
      "\n",
      "\n",
      "\n",
      "\n",
      "\n",
      "\n",
      "\n",
      "\n",
      "\n",
      "Incorrecto. La secuencia correcta era: ['casa', 'libro', 'gato']\n",
      "Incorrecto. La respuesta correcta era: 644\n",
      "Incorrecto. La respuesta correcta era: 1939\n",
      "Encuentra el patrón y da el siguiente número de la secuencia:\n",
      "[2, 4, 6, 8, 10]\n",
      "Incorrecto. La respuesta correcta era: 12\n"
     ]
    },
    {
     "data": {
      "image/png": "[encoded data removed]",
      "text/plain": [
       "<Figure size 640x480 with 1 Axes>"
      ]
     },
     "metadata": {},
     "output_type": "display_data"
    }
   ],
   "source": [
    "from brain_boost import (\n",
    "    memory_exercise,\n",
    "    mental_math,\n",
    "    general_knowledge,\n",
    "    logic_exercise,\n",
    "    ProgressTracker,\n",
    "    analyze_performance\n",
    ")\n",
    "\n",
    "# Prueba los ejercicios\n",
    "print(memory_exercise(\"fácil\"))\n",
    "print(mental_math(\"intermedio\"))\n",
    "print(general_knowledge(\"difícil\"))\n",
    "print(logic_exercise(\"fácil\"))\n",
    "\n",
    "# Rastrear el progreso\n",
    "tracker = ProgressTracker()\n",
    "tracker.update_progress(\"memory_exercise\", 5)  # Ejemplo de puntaje\n",
    "tracker.update_progress(\"mental_math\", 3)\n",
    "\n",
    "# Analizar el rendimiento\n",
    "analyze_performance(\"memory_exercise\")\n"
   ]
  }
 ],
 "metadata": {
  "kernelspec": {
   "display_name": "base",
   "language": "python",
   "name": "python3"
  },
  "language_info": {
   "codemirror_mode": {
    "name": "ipython",
    "version": 3
   },
   "file_extension": ".py",
   "mimetype": "text/x-python",
   "name": "python",
   "nbconvert_exporter": "python",
   "pygments_lexer": "ipython3",
   "version": "3.10.13"
  }
 },
 "nbformat": 4,
 "nbformat_minor": 2
}
